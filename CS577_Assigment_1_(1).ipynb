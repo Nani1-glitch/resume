{
  "cells": [
    {
      "cell_type": "markdown",
      "metadata": {
        "id": "view-in-github",
        "colab_type": "text"
      },
      "source": [
        "<a href=\"https://colab.research.google.com/github/Nani1-glitch/resume/blob/main/CS577_Assigment_1_(1).ipynb\" target=\"_parent\"><img src=\"https://colab.research.google.com/assets/colab-badge.svg\" alt=\"Open In Colab\"/></a>"
      ]
    },
    {
      "cell_type": "markdown",
      "metadata": {
        "id": "fc973e34"
      },
      "source": [
        "# Assignment 1"
      ],
      "id": "fc973e34"
    },
    {
      "cell_type": "markdown",
      "metadata": {
        "id": "ccdd5f8c"
      },
      "source": [
        "Due by 11:59pm Sept. 18, 2023"
      ],
      "id": "ccdd5f8c"
    },
    {
      "cell_type": "markdown",
      "metadata": {
        "id": "4b27dc86"
      },
      "source": [
        "## Theory Questions (Question 1: 9 points, Question 2: 4 points, Question 3: 12 points)"
      ],
      "id": "4b27dc86"
    },
    {
      "cell_type": "markdown",
      "metadata": {
        "id": "627c747b"
      },
      "source": [
        "***\n",
        "\n",
        "1.Suppose `I` is a 5$\\times$5 image, `K` is a 3$\\times$3 convolving kernel. Compute the convolution of the image `I` with `K`, with the given settings.\n",
        "\n",
        "`I`:\n",
        "![q1_i-3.png](attachment:q1_i-3.png)"
      ],
      "id": "627c747b"
    },
    {
      "cell_type": "markdown",
      "metadata": {
        "id": "bf18dfb0"
      },
      "source": [
        "`K`:\n",
        "![q1_k.png](attachment:q1_k.png)"
      ],
      "id": "bf18dfb0"
    },
    {
      "cell_type": "markdown",
      "metadata": {
        "id": "9ffe5d4c"
      },
      "source": [
        "a) Zero padding, stride $=1$.\n",
        "\n",
        "b) Zero padding, stride $=2$.\n",
        "\n",
        "b) No padding, stride $=1$."
      ],
      "id": "9ffe5d4c"
    },
    {
      "cell_type": "markdown",
      "metadata": {
        "id": "7769a544"
      },
      "source": [
        "**Answer:**"
      ],
      "id": "7769a544"
    },
    {
      "cell_type": "markdown",
      "metadata": {
        "id": "613d76f8"
      },
      "source": [
        "2.Let `I` be the input. Write the output using average pooling with $2\\times2$ kernel, stride $=2$.\n",
        "\n",
        "`I`:\n",
        "![q2.png](attachment:q2.png)"
      ],
      "id": "613d76f8"
    },
    {
      "cell_type": "markdown",
      "metadata": {
        "id": "7e2bc049"
      },
      "source": [
        "**Answer:**"
      ],
      "id": "7e2bc049"
    },
    {
      "cell_type": "markdown",
      "metadata": {
        "id": "70bb8346"
      },
      "source": [
        "3.`I` is a $5\\times5$ RGB image. `K` is a $3\\times3$ convolving kernel with all its weights equal to $-1$. `b` is the bias equal to $1$.\n",
        "\n",
        "The `R` channel is given as\n",
        "![q3_r.png](attachment:q3_r.png)"
      ],
      "id": "70bb8346"
    },
    {
      "cell_type": "markdown",
      "metadata": {
        "id": "7024bf3f"
      },
      "source": [
        "The `G` channel is given as\n",
        "![q3_g.png](attachment:q3_g.png)"
      ],
      "id": "7024bf3f"
    },
    {
      "cell_type": "markdown",
      "metadata": {
        "id": "5d3e80d6"
      },
      "source": [
        "The `B` channel is given as\n",
        "![q3_b.png](attachment:q3_b.png)"
      ],
      "id": "5d3e80d6"
    },
    {
      "cell_type": "markdown",
      "metadata": {
        "id": "11a4186a"
      },
      "source": [
        "Please calculate the convolution of `I` with `K` and `b`, where stride $=1$, and no padding is applied."
      ],
      "id": "11a4186a"
    },
    {
      "cell_type": "markdown",
      "metadata": {
        "id": "4a7c978c"
      },
      "source": [
        "**Answer:**"
      ],
      "id": "4a7c978c"
    },
    {
      "cell_type": "markdown",
      "metadata": {
        "id": "b4eef000"
      },
      "source": [
        "## Programming Questions (Question 4: 45 points, Question 5, 30 points)"
      ],
      "id": "b4eef000"
    },
    {
      "cell_type": "markdown",
      "metadata": {
        "id": "d9ca8401"
      },
      "source": [
        "4.Load mnist dataset. Normalize the data. Split the data into training, validation and testing set.\n",
        "\n",
        "Build a CNN network with convolution layers, pooling layers to classify the number.  \n",
        "\n",
        "Plot the training loss and validation loss as a function of epochs.\n",
        "\n",
        "Plot the both training accuracy and validation accuracy as a function of epochs.\n",
        "\n",
        "Print the testing accuracy."
      ],
      "id": "d9ca8401"
    },
    {
      "cell_type": "markdown",
      "metadata": {
        "id": "173cf8c2"
      },
      "source": [
        "**Note:** Initial code has been provided to import the necessary packages and load the dataset. Now that we have introduced PyTorch programming, you should use it to solve the programming problems in this assignment."
      ],
      "id": "173cf8c2"
    },
    {
      "cell_type": "code",
      "execution_count": null,
      "metadata": {
        "id": "ebe9469b"
      },
      "outputs": [],
      "source": [
        "import torch\n",
        "import torch.nn as nn\n",
        "import torch.optim as optim\n",
        "import torch.utils as utils\n",
        "from torch.utils.data import DataLoader\n",
        "import torchvision\n",
        "import torchvision.transforms as transforms\n",
        "import matplotlib.pyplot as plt"
      ],
      "id": "ebe9469b"
    },
    {
      "cell_type": "code",
      "execution_count": null,
      "metadata": {
        "colab": {
          "base_uri": "https://localhost:8080/"
        },
        "id": "ae698b68",
        "outputId": "a696dcc1-1de5-47dc-b494-15fc5887b69d"
      },
      "outputs": [
        {
          "name": "stdout",
          "output_type": "stream",
          "text": [
            "Downloading http://yann.lecun.com/exdb/mnist/train-images-idx3-ubyte.gz\n",
            "Downloading http://yann.lecun.com/exdb/mnist/train-images-idx3-ubyte.gz to ./data/MNIST/raw/train-images-idx3-ubyte.gz\n"
          ]
        },
        {
          "name": "stderr",
          "output_type": "stream",
          "text": [
            "100%|██████████| 9912422/9912422 [00:00<00:00, 58491845.39it/s]\n"
          ]
        },
        {
          "name": "stdout",
          "output_type": "stream",
          "text": [
            "Extracting ./data/MNIST/raw/train-images-idx3-ubyte.gz to ./data/MNIST/raw\n",
            "\n",
            "Downloading http://yann.lecun.com/exdb/mnist/train-labels-idx1-ubyte.gz\n",
            "Downloading http://yann.lecun.com/exdb/mnist/train-labels-idx1-ubyte.gz to ./data/MNIST/raw/train-labels-idx1-ubyte.gz\n"
          ]
        },
        {
          "name": "stderr",
          "output_type": "stream",
          "text": [
            "100%|██████████| 28881/28881 [00:00<00:00, 71298230.62it/s]\n"
          ]
        },
        {
          "name": "stdout",
          "output_type": "stream",
          "text": [
            "Extracting ./data/MNIST/raw/train-labels-idx1-ubyte.gz to ./data/MNIST/raw\n",
            "\n",
            "Downloading http://yann.lecun.com/exdb/mnist/t10k-images-idx3-ubyte.gz\n",
            "Downloading http://yann.lecun.com/exdb/mnist/t10k-images-idx3-ubyte.gz to ./data/MNIST/raw/t10k-images-idx3-ubyte.gz\n"
          ]
        },
        {
          "name": "stderr",
          "output_type": "stream",
          "text": [
            "100%|██████████| 1648877/1648877 [00:00<00:00, 27686600.84it/s]\n"
          ]
        },
        {
          "name": "stdout",
          "output_type": "stream",
          "text": [
            "Extracting ./data/MNIST/raw/t10k-images-idx3-ubyte.gz to ./data/MNIST/raw\n",
            "\n",
            "Downloading http://yann.lecun.com/exdb/mnist/t10k-labels-idx1-ubyte.gz\n",
            "Downloading http://yann.lecun.com/exdb/mnist/t10k-labels-idx1-ubyte.gz to ./data/MNIST/raw/t10k-labels-idx1-ubyte.gz\n"
          ]
        },
        {
          "name": "stderr",
          "output_type": "stream",
          "text": [
            "100%|██████████| 4542/4542 [00:00<00:00, 13695563.46it/s]\n"
          ]
        },
        {
          "name": "stdout",
          "output_type": "stream",
          "text": [
            "Extracting ./data/MNIST/raw/t10k-labels-idx1-ubyte.gz to ./data/MNIST/raw\n",
            "\n"
          ]
        }
      ],
      "source": [
        "transform = transforms.Compose([transforms.ToTensor(), transforms.Normalize((0.5,), (0.5,))])\n",
        "training_data = torchvision.datasets.MNIST(root='./data', train=True, download=True, transform=transform)\n",
        "testing_data = torchvision.datasets.MNIST(root='./data', train=False, download=True, transform=transform)"
      ],
      "id": "ae698b68"
    },
    {
      "cell_type": "code",
      "execution_count": null,
      "metadata": {
        "id": "efb5bbbc"
      },
      "outputs": [],
      "source": [
        "train_size = int(0.8 * len(training_data))\n",
        "val_size = len(training_data) - train_size\n",
        "train_dataset, val_dataset = torch.utils.data.random_split(training_data, [train_size, val_size])\n"
      ],
      "id": "efb5bbbc"
    },
    {
      "cell_type": "code",
      "execution_count": null,
      "metadata": {
        "id": "840749d5"
      },
      "outputs": [],
      "source": [
        "batch_size = 64\n",
        "train_loader = DataLoader(train_dataset, batch_size=batch_size, shuffle=True)\n",
        "val_loader = DataLoader(val_dataset, batch_size=batch_size, shuffle=False)\n",
        "test_loader = DataLoader(testing_data, batch_size=batch_size, shuffle=False)"
      ],
      "id": "840749d5"
    },
    {
      "cell_type": "code",
      "execution_count": null,
      "metadata": {
        "id": "83cf1481"
      },
      "outputs": [],
      "source": [
        "class CNN(nn.Module):\n",
        "    def __init__(self):\n",
        "        super(CNN, self).__init__()\n",
        "        self.conv1 = nn.Conv2d(1, 32, kernel_size=3, padding=1)\n",
        "        self.conv2 = nn.Conv2d(32, 64, kernel_size=3, padding=1)\n",
        "        self.pool = nn.MaxPool2d(kernel_size=2, stride=2)\n",
        "        self.fc1 = nn.Linear(64 * 7 * 7, 128)\n",
        "        self.fc2 = nn.Linear(128, 10)\n",
        "\n",
        "    def forward(self, x):\n",
        "        x = self.pool(torch.relu(self.conv1(x)))\n",
        "        x = self.pool(torch.relu(self.conv2(x)))\n",
        "        x = x.view(-1, 64 * 7 * 7)\n",
        "        x = torch.relu(self.fc1(x))\n",
        "        x = self.fc2(x)\n",
        "        return x"
      ],
      "id": "83cf1481"
    },
    {
      "cell_type": "code",
      "execution_count": null,
      "metadata": {
        "id": "a64bab04"
      },
      "outputs": [],
      "source": [
        "model = CNN()\n",
        "criterion = nn.CrossEntropyLoss()\n",
        "optimizer = optim.Adam(model.parameters(), lr=0.001)"
      ],
      "id": "a64bab04"
    },
    {
      "cell_type": "code",
      "execution_count": null,
      "metadata": {
        "id": "600fac50"
      },
      "outputs": [],
      "source": [
        "num_epochs = 10\n",
        "train_losses = []\n",
        "val_losses = []\n",
        "train_accuracy = []\n",
        "val_accuracy = []"
      ],
      "id": "600fac50"
    },
    {
      "cell_type": "code",
      "execution_count": null,
      "metadata": {
        "colab": {
          "base_uri": "https://localhost:8080/"
        },
        "id": "3e2cb54d",
        "outputId": "dab0ac33-4a7d-4bc5-843e-21fe9097a3f5"
      },
      "outputs": [
        {
          "data": {
            "text/plain": [
              "CNN(\n",
              "  (conv1): Conv2d(1, 32, kernel_size=(3, 3), stride=(1, 1), padding=(1, 1))\n",
              "  (conv2): Conv2d(32, 64, kernel_size=(3, 3), stride=(1, 1), padding=(1, 1))\n",
              "  (pool): MaxPool2d(kernel_size=2, stride=2, padding=0, dilation=1, ceil_mode=False)\n",
              "  (fc1): Linear(in_features=3136, out_features=128, bias=True)\n",
              "  (fc2): Linear(in_features=128, out_features=10, bias=True)\n",
              ")"
            ]
          },
          "execution_count": 8,
          "metadata": {},
          "output_type": "execute_result"
        }
      ],
      "source": [
        "device = torch.device(\"cuda\" if torch.cuda.is_available() else \"cpu\")\n",
        "model.to(device)"
      ],
      "id": "3e2cb54d"
    },
    {
      "cell_type": "code",
      "execution_count": null,
      "metadata": {
        "id": "58d34950"
      },
      "outputs": [],
      "source": [
        "for epoch in range(num_epochs):\n",
        "    model.train()\n",
        "    running_loss = 0.0\n",
        "    correct_train = 0\n",
        "    total_train = 0"
      ],
      "id": "58d34950"
    },
    {
      "cell_type": "code",
      "execution_count": null,
      "metadata": {
        "colab": {
          "background_save": true
        },
        "id": "631ab290"
      },
      "outputs": [],
      "source": [
        "for inputs, labels in train_loader:\n",
        "        inputs, labels = inputs.to(device), labels.to(device)\n",
        "        optimizer.zero_grad()\n",
        "        outputs = model(inputs)\n",
        "        loss = criterion(outputs, labels)\n",
        "        loss.backward()\n",
        "        optimizer.step()\n",
        "        running_loss += loss.item()\n",
        "\n",
        "        _, predicted = torch.max(outputs.data, 1)\n",
        "        total_train += labels.size(0)\n",
        "        correct_train += (predicted == labels).sum().item()\n",
        "\n",
        "train_accuracy.append(100 * correct_train / total_train)\n",
        "train_losses.append(running_loss / len(train_loader))\n",
        "\n",
        "model.eval()\n",
        "running_loss = 0.0\n",
        "correct_val = 0\n",
        "total_val = 0"
      ],
      "id": "631ab290"
    },
    {
      "cell_type": "code",
      "execution_count": null,
      "metadata": {
        "colab": {
          "base_uri": "https://localhost:8080/"
        },
        "id": "1abb4981",
        "outputId": "d0832935-0602-4796-95f5-55bb9b5ce2c2"
      },
      "outputs": [
        {
          "name": "stdout",
          "output_type": "stream",
          "text": [
            "Epoch [10/10] Train Loss: 0.1743 Train Acc: 94.83% Val Loss: 0.1285 Val Acc: 98.08%\n"
          ]
        }
      ],
      "source": [
        "with torch.no_grad():\n",
        "    for inputs, labels in val_loader:\n",
        "        inputs, labels = inputs.to(device), labels.to(device)\n",
        "        outputs = model(inputs)\n",
        "        loss = criterion(outputs, labels)\n",
        "        running_loss += loss.item()\n",
        "\n",
        "        _, predicted = torch.max(outputs.data, 1)\n",
        "        total_val += labels.size(0)\n",
        "        correct_val += (predicted == labels).sum().item()\n",
        "\n",
        "val_accuracy.append(100 * correct_val / total_val)\n",
        "val_losses.append(running_loss / len(val_loader))\n",
        "\n",
        "print(f\"Epoch [{epoch + 1}/{num_epochs}] \"\n",
        "    f\"Train Loss: {train_losses[-1]:.4f} \"\n",
        "    f\"Train Acc: {train_accuracy[-1]:.2f}% \"\n",
        "    f\"Val Loss: {val_losses[-1]:.4f} \"\n",
        "    f\"Val Acc: {val_accuracy[-1]:.2f}%\")"
      ],
      "id": "1abb4981"
    },
    {
      "cell_type": "code",
      "execution_count": null,
      "metadata": {
        "colab": {
          "base_uri": "https://localhost:8080/",
          "height": 487
        },
        "id": "wBdpBlTEqkRc",
        "outputId": "9fc3625b-6b45-410d-b053-d12c0f63c589"
      },
      "outputs": [
        {
          "data": {
            "image/png": "[encoded data removed]",
            "text/plain": [
              "<Figure size 800x500 with 1 Axes>"
            ]
          },
          "metadata": {},
          "output_type": "display_data"
        }
      ],
      "source": [
        "\n",
        "plt.figure(figsize=(8, 5))\n",
        "plt.plot(epochs, train_loss, label='Training Loss', marker='o')\n",
        "plt.plot(epochs, val_loss, label='Validation Loss', marker='o')\n",
        "\n",
        "\n",
        "plt.xlabel('Epochs')\n",
        "plt.ylabel('Loss')\n",
        "plt.title('Training and Validation Loss')\n",
        "plt.legend()\n",
        "\n",
        "# Show the plot\n",
        "plt.grid(True)\n",
        "plt.show()"
      ],
      "id": "wBdpBlTEqkRc"
    },
    {
      "cell_type": "code",
      "execution_count": null,
      "metadata": {
        "colab": {
          "base_uri": "https://localhost:8080/",
          "height": 217
        },
        "id": "205a3d4a",
        "outputId": "b2addef6-d000-4591-e97c-553d0a6f4a03"
      },
      "outputs": [
        {
          "ename": "NameError",
          "evalue": "ignored",
          "output_type": "error",
          "traceback": [
            "\u001b[0;31m---------------------------------------------------------------------------\u001b[0m",
            "\u001b[0;31mNameError\u001b[0m                                 Traceback (most recent call last)",
            "\u001b[0;32m<ipython-input-1-70cc5f0f201c>\u001b[0m in \u001b[0;36m<cell line: 1>\u001b[0;34m()\u001b[0m\n\u001b[0;32m----> 1\u001b[0;31m \u001b[0mmodel\u001b[0m\u001b[0;34m.\u001b[0m\u001b[0meval\u001b[0m\u001b[0;34m(\u001b[0m\u001b[0;34m)\u001b[0m\u001b[0;34m\u001b[0m\u001b[0;34m\u001b[0m\u001b[0m\n\u001b[0m\u001b[1;32m      2\u001b[0m \u001b[0mcorrect_test\u001b[0m \u001b[0;34m=\u001b[0m \u001b[0;36m0\u001b[0m\u001b[0;34m\u001b[0m\u001b[0;34m\u001b[0m\u001b[0m\n\u001b[1;32m      3\u001b[0m \u001b[0mtotal_test\u001b[0m \u001b[0;34m=\u001b[0m \u001b[0;36m0\u001b[0m\u001b[0;34m\u001b[0m\u001b[0;34m\u001b[0m\u001b[0m\n",
            "\u001b[0;31mNameError\u001b[0m: name 'model' is not defined"
          ]
        }
      ],
      "source": [
        "model.eval()\n",
        "correct_test = 0\n",
        "total_test = 0"
      ],
      "id": "205a3d4a"
    },
    {
      "cell_type": "code",
      "execution_count": null,
      "metadata": {
        "colab": {
          "base_uri": "https://localhost:8080/"
        },
        "id": "86d1ede5",
        "outputId": "61b2204c-3e26-4407-96f6-8d1281e3b272"
      },
      "outputs": [
        {
          "name": "stdout",
          "output_type": "stream",
          "text": [
            "Testing Accuracy: 98.24%\n"
          ]
        }
      ],
      "source": [
        "with torch.no_grad():\n",
        "    for inputs, labels in test_loader:\n",
        "        inputs, labels = inputs.to(device), labels.to(device)\n",
        "        outputs = model(inputs)\n",
        "        _, predicted = torch.max(outputs.data, 1)\n",
        "        total_test += labels.size(0)\n",
        "        correct_test += (predicted == labels).sum().item()\n",
        "\n",
        "test_accuracy = 100 * correct_test / total_test\n",
        "print(f\"Testing Accuracy: {test_accuracy:.2f}%\")"
      ],
      "id": "86d1ede5"
    },
    {
      "cell_type": "code",
      "execution_count": null,
      "metadata": {
        "id": "5b48c8fa"
      },
      "outputs": [],
      "source": [],
      "id": "5b48c8fa"
    },
    {
      "cell_type": "markdown",
      "metadata": {
        "id": "f3b271d2"
      },
      "source": [
        "5.Load cifar10 dataset. Build a CNN network with convolution layers to classify the images.\n",
        "\n",
        "Print the accuracy.  \n",
        "\n",
        "Tune the hyper parameters if needed to get a good accuracy.\n",
        "\n"
      ],
      "id": "f3b271d2"
    },
    {
      "cell_type": "code",
      "execution_count": null,
      "metadata": {
        "colab": {
          "base_uri": "https://localhost:8080/"
        },
        "id": "599e0da4",
        "outputId": "260f560d-0094-4ae6-dd62-f41d0d7445f4"
      },
      "outputs": [
        {
          "name": "stdout",
          "output_type": "stream",
          "text": [
            "Downloading https://www.cs.toronto.edu/~kriz/cifar-10-python.tar.gz to ./data/cifar-10-python.tar.gz\n"
          ]
        },
        {
          "name": "stderr",
          "output_type": "stream",
          "text": [
            "100%|██████████| 170498071/170498071 [00:03<00:00, 43233868.57it/s]\n"
          ]
        },
        {
          "name": "stdout",
          "output_type": "stream",
          "text": [
            "Extracting ./data/cifar-10-python.tar.gz to ./data\n",
            "Files already downloaded and verified\n"
          ]
        }
      ],
      "source": [
        "transform = transforms.Compose([\n",
        "    transforms.RandomHorizontalFlip(),\n",
        "    transforms.RandomCrop(32, padding=4),\n",
        "    transforms.ToTensor(),\n",
        "    transforms.Normalize((0.5, 0.5, 0.5), (0.5, 0.5, 0.5))])\n",
        "training_data = torchvision.datasets.CIFAR10(root='./data', train=True, download=True, transform=transform)\n",
        "test_data = torchvision.datasets.CIFAR10(root='./data', train=False, download=True, transform=transform)"
      ],
      "id": "599e0da4"
    },
    {
      "cell_type": "code",
      "execution_count": null,
      "metadata": {
        "id": "60c43042"
      },
      "outputs": [],
      "source": [
        "batch_size = 64\n",
        "train_loader = torch.utils.data.DataLoader(training_data, batch_size=batch_size, shuffle=True)\n",
        "test_loader = torch.utils.data.DataLoader(test_data, batch_size=batch_size, shuffle=False)\n"
      ],
      "id": "60c43042"
    },
    {
      "cell_type": "code",
      "execution_count": null,
      "metadata": {
        "id": "822b92fd"
      },
      "outputs": [],
      "source": [
        "class CNN(nn.Module):\n",
        "    def __init__(self):\n",
        "        super(CNN, self).__init__()\n",
        "        self.conv1 = nn.Conv2d(3, 64, kernel_size=3, padding=1)\n",
        "        self.conv2 = nn.Conv2d(64, 128, kernel_size=3, padding=1)\n",
        "        self.conv3 = nn.Conv2d(128, 256, kernel_size=3, padding=1)\n",
        "        self.pool = nn.MaxPool2d(kernel_size=2, stride=2)\n",
        "        self.fc1 = nn.Linear(256 * 4 * 4, 512)\n",
        "        self.fc2 = nn.Linear(512, 10)\n",
        "\n",
        "    def forward(self, x):\n",
        "        x = self.pool(torch.relu(self.conv1(x)))\n",
        "        x = self.pool(torch.relu(self.conv2(x)))\n",
        "        x = self.pool(torch.relu(self.conv3(x)))\n",
        "        x = x.view(-1, 256 * 4 * 4)\n",
        "        x = torch.relu(self.fc1(x))\n",
        "        x = self.fc2(x)\n",
        "        return x"
      ],
      "id": "822b92fd"
    },
    {
      "cell_type": "code",
      "execution_count": null,
      "metadata": {
        "id": "07bfb455"
      },
      "outputs": [],
      "source": [
        "model = CNN()\n",
        "criterion = nn.CrossEntropyLoss()\n",
        "optimizer = optim.Adam(model.parameters(), lr=0.001)\n"
      ],
      "id": "07bfb455"
    },
    {
      "cell_type": "code",
      "execution_count": null,
      "metadata": {
        "colab": {
          "background_save": true,
          "base_uri": "https://localhost:8080/"
        },
        "id": "ec8869d0",
        "outputId": "accc73c1-a862-4417-f1ab-5dfa9673dbf6"
      },
      "outputs": [
        {
          "name": "stdout",
          "output_type": "stream",
          "text": [
            "Epoch [1/10] Train Loss: 1.4506 Train Acc: 46.88%\n",
            "Epoch [2/10] Train Loss: 1.0070 Train Acc: 64.17%\n",
            "Epoch [3/10] Train Loss: 0.8321 Train Acc: 70.60%\n",
            "Epoch [4/10] Train Loss: 0.7345 Train Acc: 74.23%\n",
            "Epoch [5/10] Train Loss: 0.6645 Train Acc: 76.77%\n",
            "Epoch [6/10] Train Loss: 0.6170 Train Acc: 78.38%\n",
            "Epoch [7/10] Train Loss: 0.5828 Train Acc: 79.54%\n",
            "Epoch [8/10] Train Loss: 0.5415 Train Acc: 81.02%\n",
            "Epoch [9/10] Train Loss: 0.5193 Train Acc: 81.90%\n",
            "Epoch [10/10] Train Loss: 0.4844 Train Acc: 82.85%\n"
          ]
        }
      ],
      "source": [
        "num_epochs = 10\n",
        "\n",
        "for epoch in range(num_epochs):\n",
        "    model.train()\n",
        "    running_loss = 0.0\n",
        "    correct = 0\n",
        "    total = 0\n",
        "\n",
        "    for inputs, labels in train_loader:\n",
        "        inputs, labels = inputs.to(device), labels.to(device)\n",
        "        optimizer.zero_grad()\n",
        "        outputs = model(inputs)\n",
        "        loss = criterion(outputs, labels)\n",
        "        loss.backward()\n",
        "        optimizer.step()\n",
        "        running_loss += loss.item()\n",
        "        _, predicted = torch.max(outputs.data, 1)\n",
        "        total += labels.size(0)\n",
        "        correct += (predicted == labels).sum().item()\n",
        "\n",
        "    train_accuracy = 100 * correct / total\n",
        "    print(f\"Epoch [{epoch + 1}/{num_epochs}] \"\n",
        "          f\"Train Loss: {running_loss / len(train_loader):.4f} \"\n",
        "          f\"Train Acc: {train_accuracy:.2f}%\")"
      ],
      "id": "ec8869d0"
    },
    {
      "cell_type": "code",
      "execution_count": null,
      "metadata": {
        "id": "925a632a",
        "outputId": "c6733c98-f80c-4c44-bc87-8651f09c0af6"
      },
      "outputs": [
        {
          "name": "stdout",
          "output_type": "stream",
          "text": [
            "Test Accuracy: 79.31%\n"
          ]
        }
      ],
      "source": [
        "model.eval()\n",
        "correct = 0\n",
        "total = 0\n",
        "\n",
        "with torch.no_grad():\n",
        "    for inputs, labels in test_loader:\n",
        "        inputs, labels = inputs.to(device), labels.to(device)\n",
        "        outputs = model(inputs)\n",
        "        _, predicted = torch.max(outputs.data, 1)\n",
        "        total += labels.size(0)\n",
        "        correct += (predicted == labels).sum().item()\n",
        "\n",
        "test_accuracy = 100 * correct / total\n",
        "print(f\"Test Accuracy: {test_accuracy:.2f}%\")"
      ],
      "id": "925a632a"
    },
    {
      "cell_type": "code",
      "execution_count": null,
      "metadata": {
        "id": "a37ed1db"
      },
      "outputs": [],
      "source": [],
      "id": "a37ed1db"
    }
  ],
  "metadata": {
    "colab": {
      "provenance": [],
      "include_colab_link": true
    },
    "kernelspec": {
      "display_name": "Python 3 (ipykernel)",
      "language": "python",
      "name": "python3"
    },
    "language_info": {
      "codemirror_mode": {
        "name": "ipython",
        "version": 3
      },
      "file_extension": ".py",
      "mimetype": "text/x-python",
      "name": "python",
      "nbconvert_exporter": "python",
      "pygments_lexer": "ipython3",
      "version": "3.10.9"
    }
  },
  "nbformat": 4,
  "nbformat_minor": 5
}